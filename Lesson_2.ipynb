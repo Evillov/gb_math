{
 "cells": [
  {
   "cell_type": "markdown",
   "metadata": {},
   "source": [
    "### Задание №1\n",
    "\n",
    "#### Представьте в виде несократимой рациональной дроби:\n",
    "##### а) 0.(216);\n",
    "\n",
    "a = 0.(216)  \n",
    "1000a = 216.(216)  \n",
    "1000a = 216 + 0.(216)    \n",
    "1000a = 216 + a  \n",
    "999a = 216  \n",
    "\n",
    "a = 216\\999 = 24 \\ 111  \n",
    "\n",
    "#### б) 1.0(01)\n",
    "b = 1.0(01)  \n",
    "10b = 10.(01)  \n",
    "\n",
    "Вычислим 0.(01)  \n",
    "c = 0.(01)  \n",
    "100c = 1.(01)  \n",
    "100c = 1 + 0.(01)  \n",
    "100C = 1 + c  \n",
    "99c = 1  \n",
    "c = 1 / 99  \n",
    "\n",
    "Продолжим с \"b\"  \n",
    "10b = 10.(01)  \n",
    "10b = 10 + 0.(01)  \n",
    "10b = 10 + 1/99  \n",
    "10b = 991/99  \n",
    "b = 991 / 990  \n",
    "\n",
    "\n"
   ]
  },
  {
   "cell_type": "markdown",
   "metadata": {},
   "source": [
    "### Задание №2 \n",
    "#### Проверьте любым способом, являются ли данные логические формулы тавтологией:\n",
    "$$ a) (A \\vee B) \\rightarrow (B \\vee \\overline A)$$\n",
    "\n",
    "$$ б) A → (А ∨ (\\overline B ∧ A) $$\n"
   ]
  },
  {
   "cell_type": "markdown",
   "metadata": {},
   "source": [
    "### Задание №3\n",
    "#### Сформулируйте словесно высказывания:\n",
    "$$  а) (\\overline A \\vee B) \\rightarrow \\overline C     $$ \n",
    "$$  б) C \\rightarrow (A \\vee \\overline B)   $$\n",
    "где А: сегодня светит солнце; В: сегодня сыро; С: я поеду на дачу.  \n",
    "\n",
    "---\n",
    "$$  а) (\\overline A \\vee B) \\rightarrow \\overline C     $$ \n",
    "**Я не поеду на дачу если сегодня не будет светить солнце и сыро**\n",
    "\n",
    "$$  б) C \\rightarrow (A \\vee \\overline B)   $$\n",
    "**Если поеду на дачу будет солнце и не будет сыро**"
   ]
  }
 ],
 "metadata": {
  "kernelspec": {
   "display_name": "Python 3.10.5 64-bit",
   "language": "python",
   "name": "python3"
  },
  "language_info": {
   "name": "python",
   "version": "3.10.5"
  },
  "orig_nbformat": 4,
  "vscode": {
   "interpreter": {
    "hash": "aee8b7b246df8f9039afb4144a1f6fd8d2ca17a180786b69acc140d282b71a49"
   }
  }
 },
 "nbformat": 4,
 "nbformat_minor": 2
}
